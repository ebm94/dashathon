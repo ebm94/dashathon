{
 "cells": [
  {
   "cell_type": "code",
   "execution_count": 1,
   "metadata": {},
   "outputs": [],
   "source": [
    "import numpy as np\n",
    "import pandas as pd"
   ]
  },
  {
   "cell_type": "code",
   "execution_count": 2,
   "metadata": {},
   "outputs": [],
   "source": [
    "base = pd.read_csv('/ihme/homes/edwin100/notebooks/515/boston_marathon_dashboard/data/boston_all_years_nan.csv')\n",
    "n15 = pd.read_csv('/ihme/homes/edwin100/notebooks/515/boston_marathon_dashboard/data/nyc_marathon_2015.csv')\n",
    "n16 = pd.read_csv('/ihme/homes/edwin100/notebooks/515/boston_marathon_dashboard/data/nyc_marathon_2016.csv')\n",
    "n17 = pd.read_csv('/ihme/homes/edwin100/notebooks/515/boston_marathon_dashboard/data/nyc_marathon_2017.csv')\n",
    "n18 = pd.read_csv('/ihme/homes/edwin100/notebooks/515/boston_marathon_dashboard/data/nyc_marathon_2018.csv')"
   ]
  },
  {
   "cell_type": "code",
   "execution_count": 3,
   "metadata": {},
   "outputs": [],
   "source": [
    "# Converting time to seconds\n",
    "import time, datetime\n",
    "def convertTime(t):\n",
    "    t = str(t)\n",
    "    x = time.strptime(t,'%H:%M:%S')\n",
    "    return int(datetime.timedelta(hours=x.tm_hour,minutes=x.tm_min,seconds=x.tm_sec).total_seconds())"
   ]
  },
  {
   "cell_type": "code",
   "execution_count": 4,
   "metadata": {},
   "outputs": [],
   "source": [
    "# Merging all nyc datasets first\n",
    "n = n15.append(n16, ignore_index=True)\n",
    "n = n.append(n17, ignore_index=True)\n",
    "n = n.append(n18, ignore_index=True)\n",
    "\n",
    "time_cols = ['splint_10k', 'splint_15k', 'splint_20k', 'splint_25k',\n",
    "             'splint_30k', 'splint_35k', 'splint_40k', 'splint_5k',\n",
    "             'splint_half']\n",
    "\n",
    "# Removing records with missing split times\n",
    "n = n.dropna(subset=['splint_10k', 'splint_15k', 'splint_20k', 'splint_25k',\n",
    "             'splint_30k', 'splint_35k', 'splint_40k', 'splint_5k',\n",
    "             'splint_half', 'age', 'official_time'])\n",
    "\n",
    "# Consistent age\n",
    "n.age = n.age.astype('int64')\n",
    "\n",
    "\n",
    "# Converting HH:MM:SS to seconds\n",
    "n['splint_10k'] = n['splint_10k'].apply(convertTime)\n",
    "n['splint_15k'] = n['splint_15k'].apply(convertTime)\n",
    "n['splint_20k'] = n['splint_20k'].apply(convertTime)\n",
    "n['splint_25k'] = n['splint_25k'].apply(convertTime)\n",
    "n['splint_30k'] = n['splint_30k'].apply(convertTime)\n",
    "n['splint_35k'] = n['splint_35k'].apply(convertTime)\n",
    "n['splint_40k'] = n['splint_40k'].apply(convertTime)\n",
    "n['splint_5k'] = n['splint_5k'].apply(convertTime)\n",
    "n['splint_half'] = n['splint_half'].apply(convertTime)\n",
    "n['official_time'] = n['official_time'].apply(convertTime)"
   ]
  },
  {
   "cell_type": "code",
   "execution_count": 5,
   "metadata": {},
   "outputs": [],
   "source": [
    "# Removing gender from bib in boston base\n",
    "base.bib = base.bib.str.replace('W', '')\n",
    "\n",
    "# Assuming na citizen and division in nyc data\n",
    "n['citizen'] = None\n",
    "n['division'] = None\n",
    "n['genderdiv'] = None\n",
    "n['age_bucket'] = None\n",
    "n['age_range'] = None"
   ]
  },
  {
   "cell_type": "code",
   "execution_count": 6,
   "metadata": {},
   "outputs": [
    {
     "data": {
      "text/plain": [
       "array(['25-29', '30-34', '20-24', '35-39', '40-44', '45-49', '55-59',\n",
       "       '<= 19', '50-54', '60-64', '65-69', '70-74', '75-79', '80+'],\n",
       "      dtype=object)"
      ]
     },
     "execution_count": 6,
     "metadata": {},
     "output_type": "execute_result"
    }
   ],
   "source": [
    "base['age_range'].unique()"
   ]
  },
  {
   "cell_type": "code",
   "execution_count": 7,
   "metadata": {},
   "outputs": [
    {
     "data": {
      "text/plain": [
       "10k              float64\n",
       "15k              float64\n",
       "20k              float64\n",
       "25k              float64\n",
       "30k              float64\n",
       "35k              float64\n",
       "40k              float64\n",
       "5k               float64\n",
       "age                int64\n",
       "bib               object\n",
       "citizen           object\n",
       "city              object\n",
       "country           object\n",
       "division           int64\n",
       "gender            object\n",
       "gender_place     float64\n",
       "genderdiv        float64\n",
       "half             float64\n",
       "name              object\n",
       "official_time    float64\n",
       "overall            int64\n",
       "pace             float64\n",
       "state             object\n",
       "year               int64\n",
       "age_bucket         int64\n",
       "age_range         object\n",
       "dtype: object"
      ]
     },
     "execution_count": 7,
     "metadata": {},
     "output_type": "execute_result"
    }
   ],
   "source": [
    "base.dtypes"
   ]
  },
  {
   "cell_type": "code",
   "execution_count": 8,
   "metadata": {},
   "outputs": [
    {
     "data": {
      "text/plain": [
       "bib                      float64\n",
       "gender                    object\n",
       "age                        int64\n",
       "gun_place                float64\n",
       "gun_time                  object\n",
       "name                      object\n",
       "official_time              int64\n",
       "pace_per_mile             object\n",
       "percentile_age-graded     object\n",
       "city                      object\n",
       "state                     object\n",
       "place_age-graded         float64\n",
       "place_age-graded_of      float64\n",
       "place_age-group          float64\n",
       "place_age-group_of       float64\n",
       "place_gender             float64\n",
       "place_gender_of          float64\n",
       "place_overall            float64\n",
       "place_overall_of         float64\n",
       "splint_10k                 int64\n",
       "splint_15k                 int64\n",
       "splint_20k                 int64\n",
       "splint_25k                 int64\n",
       "splint_30k                 int64\n",
       "splint_35k                 int64\n",
       "splint_40k                 int64\n",
       "splint_5k                  int64\n",
       "splint_half                int64\n",
       "team                      object\n",
       "time_age-graded           object\n",
       "type                      object\n",
       "year                       int64\n",
       "state_name                object\n",
       "lat                      float64\n",
       "long                     float64\n",
       "country                   object\n",
       "citizen                  float64\n",
       "division                 float64\n",
       "genderdiv                float64\n",
       "age_bucket               float64\n",
       "age_range                float64\n",
       "dtype: object"
      ]
     },
     "execution_count": 8,
     "metadata": {},
     "output_type": "execute_result"
    }
   ],
   "source": [
    "n.dtypes"
   ]
  },
  {
   "cell_type": "code",
   "execution_count": 16,
   "metadata": {},
   "outputs": [],
   "source": [
    "df = np.concatenate((base, n[['splint_10k', 'splint_15k', 'splint_20k', 'splint_25k', 'splint_30k', 'splint_35k', 'splint_40k', 'splint_5k', 'age', 'bib', 'citizen', 'city', 'country', 'division', 'gender', 'place_gender', 'genderdiv', 'splint_half', 'name', 'official_time', 'place_overall', 'pace_per_mile', 'state', 'year', 'age_range', 'age_bucket']]), axis=0)\n",
    "df = pd.DataFrame(df)"
   ]
  },
  {
   "cell_type": "markdown",
   "metadata": {},
   "source": [
    "#### Merging with Chicago"
   ]
  },
  {
   "cell_type": "code",
   "execution_count": 49,
   "metadata": {},
   "outputs": [],
   "source": [
    "n2 = n[['splint_10k', 'splint_15k', 'splint_20k', 'splint_25k', 'splint_30k', 'splint_35k', 'splint_40k', 'splint_5k', 'age', 'bib', 'citizen', 'city', 'country', 'division', 'gender', 'place_gender', 'genderdiv', 'splint_half', 'name', 'official_time', 'place_overall', 'pace_per_mile', 'state', 'year', 'age_range', 'age_bucket']]"
   ]
  },
  {
   "cell_type": "code",
   "execution_count": 53,
   "metadata": {},
   "outputs": [],
   "source": [
    "n2 = n2.rename(columns = {\"splint_10k\": \"10k\", \"splint_15k\":\"15k\", \"splint_20k\": \"20k\", \"splint_25k\": \"25k\"\n",
    "                          , \"splint_30k\": \"30k\", \"splint_35k\": \"35k\", \"splint_40k\": \"40k\", \"splint_5k\": \"5k\"\n",
    "                          , \"place_gender\": \"gender_place\", \"splint_half\": \"half\", \"splint_20k\": \"20k\"\n",
    "                          , \"place_overall\": \"overall\", \"pace_per_mile\": \"pace\"})"
   ]
  },
  {
   "cell_type": "code",
   "execution_count": 57,
   "metadata": {},
   "outputs": [
    {
     "data": {
      "text/plain": [
       "array(['10k', '15k', '20k', '25k', '30k', '35k', '40k', '5k', 'age',\n",
       "       'bib', 'citizen', 'city', 'country', 'division', 'gender',\n",
       "       'gender_place', 'genderdiv', 'half', 'name', 'official_time',\n",
       "       'overall', 'pace', 'state', 'year', 'age_range', 'age_bucket'],\n",
       "      dtype=object)"
      ]
     },
     "execution_count": 57,
     "metadata": {},
     "output_type": "execute_result"
    }
   ],
   "source": [
    "n2.columns.values"
   ]
  },
  {
   "cell_type": "code",
   "execution_count": 58,
   "metadata": {},
   "outputs": [
    {
     "data": {
      "text/plain": [
       "array(['10k', '15k', '20k', '25k', '30k', '35k', '40k', '5k', 'age',\n",
       "       'bib', 'citizen', 'city', 'country', 'division', 'gender',\n",
       "       'gender_place', 'genderdiv', 'half', 'name', 'official_time',\n",
       "       'overall', 'pace', 'state', 'year', 'age_bucket', 'age_range'],\n",
       "      dtype=object)"
      ]
     },
     "execution_count": 58,
     "metadata": {},
     "output_type": "execute_result"
    }
   ],
   "source": [
    "base.columns.values"
   ]
  },
  {
   "cell_type": "code",
   "execution_count": 114,
   "metadata": {},
   "outputs": [
    {
     "name": "stderr",
     "output_type": "stream",
     "text": [
      "/ihme/homes/edwin100/miniconda3/lib/python3.7/site-packages/pandas/core/frame.py:6692: FutureWarning: Sorting because non-concatenation axis is not aligned. A future version\n",
      "of pandas will change to not sort by default.\n",
      "\n",
      "To accept the future behavior, pass 'sort=False'.\n",
      "\n",
      "To retain the current behavior and silence the warning, pass 'sort=True'.\n",
      "\n",
      "  sort=sort)\n"
     ]
    },
    {
     "data": {
      "text/plain": [
       "(327833, 26)"
      ]
     },
     "execution_count": 114,
     "metadata": {},
     "output_type": "execute_result"
    }
   ],
   "source": [
    "df = base.append(n2, ignore_index=True)"
   ]
  },
  {
   "cell_type": "code",
   "execution_count": 197,
   "metadata": {},
   "outputs": [],
   "source": [
    "# chi14m = pd.read_csv('/ihme/homes/edwin100/notebooks/515/boston_marathon_dashboard/data/chicago_marathon_2014_M.csv', sep = '|', usecols=['year', 'bib', 'age_group', 'gender', 'city', 'state', 'country', 'overall', 'rank_gender', 'rank_age_group', '5k', '10k', '15k', '20k', 'half', '25k', '30k', '35k', '40k', 'finish'])\n",
    "# chi14w = pd.read_csv('/ihme/homes/edwin100/notebooks/515/boston_marathon_dashboard/data/chicago_marathon_2014_W.csv', sep = '|', usecols=['year', 'bib', 'age_group', 'gender', 'city', 'state', 'country', 'overall', 'rank_gender', 'rank_age_group', '5k', '10k', '15k', '20k', 'half', '25k', '30k', '35k', '40k', 'finish'])\n",
    "# chi15m = pd.read_csv('/ihme/homes/edwin100/notebooks/515/boston_marathon_dashboard/data/chicago_marathon_2015_M.csv', sep = '|', usecols=['year', 'bib', 'age_group', 'gender', 'city', 'state', 'country', 'overall', 'rank_gender', 'rank_age_group', '5k', '10k', '15k', '20k', 'half', '25k', '30k', '35k', '40k', 'finish'])\n",
    "# chi15w = pd.read_csv('/ihme/homes/edwin100/notebooks/515/boston_marathon_dashboard/data/chicago_marathon_2015_W.csv', sep = '|', usecols=['year', 'bib', 'age_group', 'gender', 'city', 'state', 'country', 'overall', 'rank_gender', 'rank_age_group', '5k', '10k', '15k', '20k', 'half', '25k', '30k', '35k', '40k', 'finish'])\n",
    "# chi16m = pd.read_csv('/ihme/homes/edwin100/notebooks/515/boston_marathon_dashboard/data/chicago_marathon_2016_M.csv', sep = '|', usecols=['year', 'bib', 'age_group', 'gender', 'city', 'state', 'country', 'overall', 'rank_gender', 'rank_age_group', '5k', '10k', '15k', '20k', 'half', '25k', '30k', '35k', '40k', 'finish'])\n",
    "# chi16w = pd.read_csv('/ihme/homes/edwin100/notebooks/515/boston_marathon_dashboard/data/chicago_marathon_2016_W.csv', sep = '|', usecols=['year', 'bib', 'age_group', 'gender', 'city', 'state', 'country', 'overall', 'rank_gender', 'rank_age_group', '5k', '10k', '15k', '20k', 'half', '25k', '30k', '35k', '40k', 'finish'])\n",
    "chi17m = pd.read_csv('/ihme/homes/edwin100/notebooks/515/boston_marathon_dashboard/data/chicago_marathon_2017_M.csv', sep = '|', usecols=['year', 'bib', 'age_group', 'gender', 'city', 'state', 'country', 'overall', 'rank_gender', 'rank_age_group', '5k', '10k', '15k', '20k', 'half', '25k', '30k', '35k', '40k', 'finish'])\n",
    "# chi17w = pd.read_csv('/ihme/homes/edwin100/notebooks/515/boston_marathon_dashboard/data/chicago_marathon_2017_W.csv', sep = '|', usecols=['year', 'bib', 'age_group', 'gender', 'city', 'state', 'country', 'overall', 'rank_gender', 'rank_age_group', '5k', '10k', '15k', '20k', 'half', '25k', '30k', '35k', '40k', 'finish'])\n",
    "\n",
    "with open('/ihme/homes/edwin100/notebooks/515/boston_marathon_dashboard/data/chicago_marathon_2014_M.csv', 'r') as f:\n",
    "    temp =  f.read()\n",
    "temp = temp.split('\\n')\n",
    "l = []\n",
    "for i in temp:\n",
    "    i = i.split('|')\n",
    "    if len(i) == 20:\n",
    "        l.append(i)\n",
    "chi14m = pd.DataFrame(l, columns=l[0])\n",
    "chi14m = chi14m.drop(0, axis=0)\n",
    "\n",
    "with open('/ihme/homes/edwin100/notebooks/515/boston_marathon_dashboard/data/chicago_marathon_2014_W.csv', 'r') as f:\n",
    "    temp =  f.read()\n",
    "temp = temp.split('\\n')\n",
    "l = []\n",
    "for i in temp:\n",
    "    i = i.split('|')\n",
    "    if len(i) == 20:\n",
    "        l.append(i)\n",
    "chi14w = pd.DataFrame(l, columns=l[0])\n",
    "chi14w = chi14w.drop(0, axis=0)\n",
    "\n",
    "with open('/ihme/homes/edwin100/notebooks/515/boston_marathon_dashboard/data/chicago_marathon_2015_M.csv', 'r') as f:\n",
    "    temp =  f.read()\n",
    "temp = temp.split('\\n')\n",
    "l = []\n",
    "for i in temp:\n",
    "    i = i.split('|')\n",
    "    if len(i) == 20:\n",
    "        l.append(i)\n",
    "chi15m = pd.DataFrame(l, columns=l[0])\n",
    "chi15m = chi15m.drop(0, axis=0)\n",
    "\n",
    "with open('/ihme/homes/edwin100/notebooks/515/boston_marathon_dashboard/data/chicago_marathon_2015_W.csv', 'r') as f:\n",
    "    temp =  f.read()\n",
    "temp = temp.split('\\n')\n",
    "l = []\n",
    "for i in temp:\n",
    "    i = i.split('|')\n",
    "    if len(i) == 20:\n",
    "        l.append(i)\n",
    "chi15w = pd.DataFrame(l, columns=l[0])\n",
    "chi15w = chi15w.drop(0, axis=0)\n",
    "\n",
    "with open('/ihme/homes/edwin100/notebooks/515/boston_marathon_dashboard/data/chicago_marathon_2016_M.csv', 'r') as f:\n",
    "    temp =  f.read()\n",
    "temp = temp.split('\\n')\n",
    "l = []\n",
    "for i in temp:\n",
    "    i = i.split('|')\n",
    "    if len(i) == 20:\n",
    "        l.append(i)\n",
    "chi16m = pd.DataFrame(l, columns=l[0])\n",
    "chi16m = chi16m.drop(0, axis=0)\n",
    "\n",
    "with open('/ihme/homes/edwin100/notebooks/515/boston_marathon_dashboard/data/chicago_marathon_2016_W.csv', 'r') as f:\n",
    "    temp =  f.read()\n",
    "temp = temp.split('\\n')\n",
    "l = []\n",
    "for i in temp:\n",
    "    i = i.split('|')\n",
    "    if len(i) == 20:\n",
    "        l.append(i)\n",
    "chi16w = pd.DataFrame(l, columns=l[0])\n",
    "chi16w = chi16w.drop(0, axis=0)\n",
    "\n",
    "with open('/ihme/homes/edwin100/notebooks/515/boston_marathon_dashboard/data/chicago_marathon_2017_W.csv', 'r') as f:\n",
    "    temp =  f.read()\n",
    "temp = temp.split('\\n')\n",
    "l = []\n",
    "for i in temp:\n",
    "    i = i.split('|')\n",
    "    if len(i) == 20:\n",
    "        l.append(i)\n",
    "chi17w = pd.DataFrame(l, columns=l[0])\n",
    "chi17w = chi17w.drop(0, axis=0)"
   ]
  },
  {
   "cell_type": "code",
   "execution_count": 200,
   "metadata": {},
   "outputs": [],
   "source": [
    "chi14m[['year', 'bib', 'rank_gender', 'rank_age_group', 'overall']] = chi14m[['year', 'bib', 'rank_gender', 'rank_age_group', 'overall']].astype('int64')\n",
    "chi14m[['5k','10k','15k','20k','half','25k','30k','35k','40k','finish']] = chi14m[['5k','10k','15k','20k','half','25k','30k','35k','40k','finish']].astype('float64')\n",
    "chi14w[['year', 'bib', 'rank_gender', 'rank_age_group', 'overall']] = chi14w[['year', 'bib', 'rank_gender', 'rank_age_group', 'overall']].astype('int64')\n",
    "chi14w[['5k','10k','15k','20k','half','25k','30k','35k','40k','finish']] = chi14w[['5k','10k','15k','20k','half','25k','30k','35k','40k','finish']].astype('float64')\n",
    "chi15m[['year', 'bib', 'rank_gender', 'rank_age_group', 'overall']] = chi15m[['year', 'bib', 'rank_gender', 'rank_age_group', 'overall']].astype('int64')\n",
    "chi15m[['5k','10k','15k','20k','half','25k','30k','35k','40k','finish']] = chi15m[['5k','10k','15k','20k','half','25k','30k','35k','40k','finish']].astype('float64')\n",
    "chi15w[['year', 'bib', 'rank_gender', 'rank_age_group', 'overall']] = chi15w[['year', 'bib', 'rank_gender', 'rank_age_group', 'overall']].astype('int64')\n",
    "chi15w[['5k','10k','15k','20k','half','25k','30k','35k','40k','finish']] = chi15w[['5k','10k','15k','20k','half','25k','30k','35k','40k','finish']].astype('float64')\n",
    "chi16m[['year', 'bib', 'rank_gender', 'rank_age_group', 'overall']] = chi16m[['year', 'bib', 'rank_gender', 'rank_age_group', 'overall']].astype('int64')\n",
    "chi16m[['5k','10k','15k','20k','half','25k','30k','35k','40k','finish']] = chi16m[['5k','10k','15k','20k','half','25k','30k','35k','40k','finish']].astype('float64')\n",
    "chi16w[['year', 'bib', 'rank_gender', 'rank_age_group', 'overall']] = chi16w[['year', 'bib', 'rank_gender', 'rank_age_group', 'overall']].astype('int64')\n",
    "chi16w[['5k','10k','15k','20k','half','25k','30k','35k','40k','finish']] = chi16w[['5k','10k','15k','20k','half','25k','30k','35k','40k','finish']].astype('float64')\n",
    "chi17w[['year', 'bib', 'rank_gender', 'rank_age_group', 'overall']] = chi17w[['year', 'bib', 'rank_gender', 'rank_age_group', 'overall']].astype('int64')\n",
    "chi17w[['5k','10k','15k','20k','half','25k','30k','35k','40k','finish']] = chi17w[['5k','10k','15k','20k','half','25k','30k','35k','40k','finish']].astype('float64')"
   ]
  },
  {
   "cell_type": "code",
   "execution_count": 248,
   "metadata": {},
   "outputs": [],
   "source": [
    "# Merging all chicago datasets first\n",
    "chi = chi14m.append(chi14w, ignore_index=True)\n",
    "chi = chi.append(chi15m, ignore_index=True)\n",
    "chi = chi.append(chi15w, ignore_index=True)\n",
    "chi = chi.append(chi16m, ignore_index=True)\n",
    "chi = chi.append(chi16w, ignore_index=True)\n",
    "chi = chi.append(chi17m, ignore_index=True)\n",
    "chi = chi.append(chi17w, ignore_index=True)"
   ]
  },
  {
   "cell_type": "code",
   "execution_count": 249,
   "metadata": {},
   "outputs": [],
   "source": [
    "# chi.head()\n",
    "chi['age'] = None\n",
    "chi['age_bucket'] = None\n",
    "chi['citizen'] = None\n",
    "chi['division'] = None\n",
    "chi['genderdiv'] = None\n",
    "chi['name'] = None\n",
    "chi['official_time'] = None\n",
    "chi['pace'] = None\n",
    "\n",
    "\n",
    "chi = chi.rename(columns={'age_group':'age_range', 'rank_gender': 'gender_place'})\n",
    "chi = chi.drop(['rank_age_group', 'finish'], axis=1)"
   ]
  },
  {
   "cell_type": "code",
   "execution_count": 246,
   "metadata": {},
   "outputs": [
    {
     "data": {
      "text/plain": [
       "array(['year', 'bib', 'age_range', 'gender', 'city', 'state', 'country',\n",
       "       'overall', 'gender_place', '5k', '10k', '15k', '20k', 'half',\n",
       "       '25k', '30k', '35k', '40k', 'age', 'age_bucket', 'citizen',\n",
       "       'division', 'genderdiv', 'name', 'official_time', 'pace'],\n",
       "      dtype=object)"
      ]
     },
     "execution_count": 246,
     "metadata": {},
     "output_type": "execute_result"
    }
   ],
   "source": [
    "chi.columns.values"
   ]
  },
  {
   "cell_type": "code",
   "execution_count": 247,
   "metadata": {},
   "outputs": [
    {
     "data": {
      "text/plain": [
       "array(['10k', '15k', '20k', '25k', '30k', '35k', '40k', '5k', 'age',\n",
       "       'age_bucket', 'age_range', 'bib', 'citizen', 'city', 'country',\n",
       "       'division', 'gender', 'gender_place', 'genderdiv', 'half', 'name',\n",
       "       'official_time', 'overall', 'pace', 'state', 'year'], dtype=object)"
      ]
     },
     "execution_count": 247,
     "metadata": {},
     "output_type": "execute_result"
    }
   ],
   "source": [
    "df.columns.values"
   ]
  },
  {
   "cell_type": "code",
   "execution_count": 250,
   "metadata": {},
   "outputs": [
    {
     "data": {
      "text/plain": [
       "(490747, 26)"
      ]
     },
     "execution_count": 250,
     "metadata": {},
     "output_type": "execute_result"
    }
   ],
   "source": [
    "df = df.append(chi, ignore_index=True)"
   ]
  },
  {
   "cell_type": "code",
   "execution_count": 253,
   "metadata": {},
   "outputs": [],
   "source": [
    "df.to_csv('bostonnycchicago.csv',index=False)"
   ]
  },
  {
   "cell_type": "markdown",
   "metadata": {},
   "source": [
    "#### Merging with London"
   ]
  },
  {
   "cell_type": "code",
   "execution_count": null,
   "metadata": {},
   "outputs": [],
   "source": [
    "lon14m = pd.read_csv('/ihme/homes/edwin100/notebooks/515/boston_marathon_dashboard/data/london_marathon_2014_M.csv', sep = '|', usecols=['year', 'bib', 'age_group', 'gender', 'country', 'overall', 'rank_gender', 'rank_age_group', '5k', '10k', '15k', '20k', 'half', '25k', '30k', '35k', '40k', 'finish'])"
   ]
  }
 ],
 "metadata": {
  "kernelspec": {
   "display_name": "Python 3",
   "language": "python",
   "name": "python3"
  },
  "language_info": {
   "codemirror_mode": {
    "name": "ipython",
    "version": 3
   },
   "file_extension": ".py",
   "mimetype": "text/x-python",
   "name": "python",
   "nbconvert_exporter": "python",
   "pygments_lexer": "ipython3",
   "version": "3.7.2"
  }
 },
 "nbformat": 4,
 "nbformat_minor": 2
}
